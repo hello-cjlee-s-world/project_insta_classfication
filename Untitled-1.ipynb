{
 "cells": [
  {
   "cell_type": "code",
   "execution_count": 9,
   "metadata": {},
   "outputs": [
    {
     "data": {
      "text/plain": [
       "2009731"
      ]
     },
     "execution_count": 9,
     "metadata": {},
     "output_type": "execute_result"
    }
   ],
   "source": [
    "cash_exchange=460000\n",
    "cj_card=(1553+61946+3392+61629+28377+13946+8131+29793+9014+202+14100+61998+49383+56565)\n",
    "dh_card=(27.38+13.84+7.22+14.97+7.55+37.89+7.76+27.38+13.84)*1328.66\n",
    "flight=440000\n",
    "home=488197\n",
    "int(cash_exchange+cj_card+dh_card+flight+home)"
   ]
  }
 ],
 "metadata": {
  "kernelspec": {
   "display_name": "Python 3",
   "language": "python",
   "name": "python3"
  },
  "language_info": {
   "codemirror_mode": {
    "name": "ipython",
    "version": 3
   },
   "file_extension": ".py",
   "mimetype": "text/x-python",
   "name": "python",
   "nbconvert_exporter": "python",
   "pygments_lexer": "ipython3",
   "version": "3.9.7"
  },
  "orig_nbformat": 4
 },
 "nbformat": 4,
 "nbformat_minor": 2
}
