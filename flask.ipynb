{
 "cells": [
  {
   "cell_type": "code",
   "execution_count": 2,
   "metadata": {},
   "outputs": [],
   "source": [
    "from flask import Flask, render_template, request, url_for\n",
    "from tensorflow.keras.models import load_model\n",
    "from keras.applications.inception_v3 import InceptionV3\n",
    "from keras.applications.inception_v3 import preprocess_input\n",
    "from keras.models import Model\n",
    "from tensorflow.keras.utils import img_to_array\n",
    "from tqdm import tqdm\n",
    "import keras\n",
    "import pickle\n",
    "import matplotlib.pyplot as plt\n",
    "import pandas as pd\n",
    "import numpy as np\n",
    "import os\n",
    "import datetime\n",
    "import json\n",
    "# from requests_toolbelt.multipart import decoder\n"
   ]
  },
  {
   "cell_type": "code",
   "execution_count": 3,
   "metadata": {},
   "outputs": [],
   "source": [
    "# 이미지의 벡터화를 진행하는 코드\n",
    "# inception v3 model 로드\n",
    "model_v3 = InceptionV3(weights='imagenet')\n",
    "# inception v3에서 마지막 레이어를 제거한 새로운 모델 생성\n",
    "model_new = Model(model_v3.input, model_v3.layers[-2].output)\n",
    "model_path=os.path.abspath('./model')\n",
    "object_model=keras.models.load_model(model_path+'/object_model.h5')\n",
    "scenery_model=keras.models.load_model(model_path+'/scenery_model.h5')\n",
    "img_df = pd.read_csv(\"./csv/시연데이터최종본.csv\")"
   ]
  },
  {
   "cell_type": "code",
   "execution_count": 4,
   "metadata": {},
   "outputs": [],
   "source": [
    "flower = ['꽃',  '꽃스타그램']\n",
    "food = ['먹스타그램', '맛스타그램', '먹방', '맛집', '디저트', '아침', '집밥', '먹스타', '맛있다', '냠냠', '야식',\n",
    "         '맛있다그램', '먹부림', '요리', '마카롱', '간식', '부산맛집', '치킨', '온더테이블', '존맛', '푸드스타그램',\n",
    "          '음식', '제주맛집', '점심', '저녁']\n",
    "drink = ['술스타그램']\n",
    "fashion = ['데일리룩', '오오티디', '패션', '옷스타그램', '패션스타그램', '뷰티', '스타일', '모델', '코디', '명품',\n",
    "          '뷰티스타그램', '아웃핏', '데일리코디', '등원룩', '원피스', '옷', '메이크업'] \n",
    "nailart = ['네일아트', '젤네일', '네일', '네일스타그램']\n",
    "love = ['럽스타그램', '데이트', '커플', '사랑', '내사랑']\n",
    "baby = ['육아', '육아스타그램', '육아소통', '육아맘', '맘스타그램', '아들스타그램', '애스타그램', '도치맘', '인스타베이비',\n",
    "         '아들맘', '아들', '딸바보', '가족', '딸', '육아일기', '딸맘', '베이비스타그램', '아기', '육아일상', '아기스타그램',\n",
    "          '부부스타그램', '줌마그램', '아들바보', '베이비', '베이비그램', '육아그램', '신혼', '신혼부부', '닭띠맘', '원숭이띠아기', \n",
    "          '가족스타그램', '닭띠아기', '딸스타그램']\n",
    "animal = ['고양이', '반려견', '강아지', '냥스타그램', '개스타그램', '펫스타그램', '댕댕이', '캣스타그램',\n",
    "             '독스타그램', '견스타그램', '푸들', '말티즈', '반려묘', '멍멍이', '포메라니안', '반려동물']\n",
    "health = ['운동', '운동하는여자', '헬스타그램', '헬스', '운동하는남자', '운동스타그램']\n",
    "mountain = [ '여행스타그램',  '산스타그램', '산', '여행에미치다', '휴가', '풍경','등산', '등산스타그램',  '등산그램' ]\n",
    "ocean = ['여행스타그램', '바다스타그램', '바다', '여행에미치다', '휴가', '풍경' , '광안리', '해운대', '바다여행', '바다뷰' ]\n",
    "\n",
    "total_keywords = flower + food + drink + fashion + nailart + love + baby + animal + health + mountain + ocean\n",
    "total_keywords.sort()\n",
    "key_counts = {}\n",
    "for words in total_keywords:\n",
    "    counts = 0\n",
    "    for tags in img_df[\"tags\"].values:\n",
    "        if words in tags:\n",
    "            counts += 1\n",
    "    key_counts[words] = str(counts)"
   ]
  },
  {
   "cell_type": "code",
   "execution_count": 5,
   "metadata": {},
   "outputs": [],
   "source": [
    "# Function to encode a given image into a vector of size (2048, )\n",
    "def encode(image_path):\n",
    "    global model_new\n",
    "    img = keras.preprocessing.image.load_img(image_path, target_size=(299, 299))\n",
    "    # Convert image to numpy array of 3-dimensions\n",
    "    x = img_to_array(img)\n",
    "    # Add one more dimension\n",
    "    x = np.expand_dims(x, axis=0)\n",
    "    # preprocess the images using preprocess_input() from inception module\n",
    "    x = preprocess_input(x)\n",
    "    fea_vec = model_new.predict(x) # Get the encoding vector for the image\n",
    "    fea_vec = np.reshape(fea_vec, fea_vec.shape[1]) # reshape from (1, 2048) to (2048, )\n",
    "    return fea_vec   # 이 데이터가 input data로 사용됨"
   ]
  },
  {
   "cell_type": "code",
   "execution_count": 6,
   "metadata": {},
   "outputs": [],
   "source": [
    "def image_encode( keyword, img_lst = []):\n",
    "    global object_model, scenery_model\n",
    "    image_path='./static/test_img/'\n",
    "    data=[]\n",
    "    for image in tqdm(img_lst):\n",
    "        path=image_path+image\n",
    "        data.append( np.array(encode(path)) )\n",
    "    data = np.array(data)\n",
    "    if keyword in health or keyword in mountain or keyword in ocean:\n",
    "        # 풍경검출 결과\n",
    "        y_scenery_pred=[]\n",
    "        label=scenery_model.predict(data)\n",
    "\n",
    "        for sample in label:\n",
    "            y_scenery_pred.append([1 if i>=0.5 else 0 for i in sample ] )\n",
    "\n",
    "        return np.array(y_scenery_pred)\n",
    "    else:\n",
    "        # 객체검출 결과\n",
    "        y_object_pred=[]\n",
    "        label=object_model.predict(data)\n",
    "        for sample in label:\n",
    "            y_object_pred.append([1 if i>=0.5 else 0 for i in sample ] )\n",
    "        return np.array(y_object_pred)"
   ]
  },
  {
   "cell_type": "code",
   "execution_count": 7,
   "metadata": {},
   "outputs": [],
   "source": [
    "def keyword_img_match(keyword):\n",
    "    global img_df\n",
    "    img_lst = []\n",
    "    for i in img_df.index:\n",
    "        if keyword in img_df.iloc[i,1]:\n",
    "            img_lst.append(img_df.iloc[i,0])\n",
    "    return img_lst"
   ]
  },
  {
   "cell_type": "code",
   "execution_count": 8,
   "metadata": {},
   "outputs": [],
   "source": [
    "def keyword_search_len(keyword):\n",
    "    lst = 0\n",
    "    for i in img_df.index:\n",
    "        if keyword in img_df.iloc[i,1]:\n",
    "            lst+=1\n",
    "    return lst"
   ]
  },
  {
   "cell_type": "code",
   "execution_count": 9,
   "metadata": {},
   "outputs": [],
   "source": [
    "def tag_detecting(keyword, predict_list, img_lst):\n",
    "    filtered_list = []\n",
    "\n",
    "    #  객체검출\n",
    "    if keyword in flower:\n",
    "        for i in range(len(predict_list)):\n",
    "            if predict_list[i][6] == 1:\n",
    "                filtered_list.append(img_lst[i])\n",
    "        return filtered_list\n",
    "        \n",
    "    elif keyword in food :\n",
    "        for i in range(len(predict_list)):\n",
    "            if predict_list[i][0] == 1:\n",
    "                filtered_list.append(img_lst[i])\n",
    "        return filtered_list\n",
    "        \n",
    "    elif keyword in drink :\n",
    "        for i in range(len(predict_list)):\n",
    "            if predict_list[i][1] == 1:\n",
    "                filtered_list.append(img_lst[i])\n",
    "        return filtered_list\n",
    "        \n",
    "    elif keyword in fashion :\n",
    "        for i in range(len(predict_list)):\n",
    "            if predict_list[i][2] == 1 or predict_list[i][3] == 1:\n",
    "                filtered_list.append(img_lst[i])\n",
    "        return filtered_list\n",
    "        \n",
    "    elif keyword in nailart :\n",
    "        for i in range(len(predict_list)):\n",
    "            if predict_list[i][5] == 1:\n",
    "                filtered_list.append(img_lst[i])\n",
    "        return filtered_list\n",
    "        \n",
    "    elif keyword in love :\n",
    "        for i in range(len(predict_list)):\n",
    "            if predict_list[i][2] == 1 and predict_list[i][3] == 0:\n",
    "                filtered_list.append(img_lst[i])\n",
    "        return filtered_list\n",
    "        \n",
    "    elif keyword in baby :\n",
    "        for i in range(len(predict_list)):\n",
    "            if predict_list[i][3] == 1:\n",
    "                filtered_list.append(img_lst[i])\n",
    "        return filtered_list\n",
    "        \n",
    "    elif keyword in animal :\n",
    "        for i in range(len(predict_list)):\n",
    "            if predict_list[i][4] == 1:\n",
    "                filtered_list.append(img_lst[i])\n",
    "        return filtered_list\n",
    "        \n",
    "    \n",
    "    #  풍경검출\n",
    "    elif keyword in health :\n",
    "        for i in range(len(predict_list)):\n",
    "            if predict_list[i][2] == 1:\n",
    "                filtered_list.append(img_lst[i])\n",
    "        return filtered_list\n",
    "        \n",
    "    elif keyword in mountain :\n",
    "        for i in range(len(predict_list)):\n",
    "            if predict_list[i][0] == 1:\n",
    "                filtered_list.append(img_lst[i])\n",
    "        return filtered_list\n",
    "        \n",
    "    elif keyword in ocean :\n",
    "        for i in range(len(predict_list)):\n",
    "            if predict_list[i][1] == 1:\n",
    "                filtered_list.append(img_lst[i])\n",
    "        return filtered_list\n",
    "        "
   ]
  },
  {
   "cell_type": "code",
   "execution_count": 10,
   "metadata": {},
   "outputs": [],
   "source": [
    "def tag_detecting_not_delete(keyword, predict_list, img_lst):\n",
    "    filtered_list = []\n",
    "\n",
    "    #  객체검출\n",
    "    if keyword in flower:\n",
    "        for i in range(len(predict_list)):\n",
    "            if predict_list[i][6] == 1:\n",
    "                filtered_list.append([img_lst[i], 't'])\n",
    "            else : \n",
    "                filtered_list.append([img_lst[i], \"f\"])\n",
    "        return filtered_list\n",
    "        \n",
    "    elif keyword in food :\n",
    "        for i in range(len(predict_list)):\n",
    "            if predict_list[i][0] == 1:\n",
    "                filtered_list.append([img_lst[i], 't'])\n",
    "            else : \n",
    "                filtered_list.append([img_lst[i], \"f\"])\n",
    "        return filtered_list\n",
    "        \n",
    "    elif keyword in drink :\n",
    "        for i in range(len(predict_list)):\n",
    "            if predict_list[i][1] == 1:\n",
    "                filtered_list.append([img_lst[i], 't'])\n",
    "            else : \n",
    "                filtered_list.append([img_lst[i], \"f\"])\n",
    "        return filtered_list\n",
    "        \n",
    "    elif keyword in fashion :\n",
    "        for i in range(len(predict_list)):\n",
    "            if predict_list[i][2] == 1 or predict_list[i][3] == 1:\n",
    "                filtered_list.append([img_lst[i], 't'])\n",
    "            else : \n",
    "                filtered_list.append([img_lst[i], \"f\"])\n",
    "        return filtered_list\n",
    "        \n",
    "    elif keyword in nailart :\n",
    "        for i in range(len(predict_list)):\n",
    "            if predict_list[i][5] == 1:\n",
    "                filtered_list.append([img_lst[i], 't'])\n",
    "            else : \n",
    "                filtered_list.append([img_lst[i], \"f\"])\n",
    "        return filtered_list\n",
    "        \n",
    "    elif keyword in love :\n",
    "        for i in range(len(predict_list)):\n",
    "            if predict_list[i][2] == 1 and predict_list[i][3] == 0:\n",
    "                filtered_list.append([img_lst[i], 't'])\n",
    "            else : \n",
    "                filtered_list.append([img_lst[i], \"f\"])\n",
    "        return filtered_list\n",
    "        \n",
    "    elif keyword in baby :\n",
    "        for i in range(len(predict_list)):\n",
    "            if predict_list[i][3] == 1:\n",
    "                filtered_list.append([img_lst[i], 't'])\n",
    "            else : \n",
    "                filtered_list.append([img_lst[i], \"f\"])\n",
    "        return filtered_list\n",
    "        \n",
    "    elif keyword in animal :\n",
    "        for i in range(len(predict_list)):\n",
    "            if predict_list[i][4] == 1:\n",
    "                filtered_list.append([img_lst[i], 't'])\n",
    "            else : \n",
    "                filtered_list.append([img_lst[i], \"f\"])\n",
    "        return filtered_list\n",
    "        \n",
    "    \n",
    "    #  풍경검출\n",
    "    elif keyword in health :\n",
    "        for i in range(len(predict_list)):\n",
    "            if predict_list[i][2] == 1:\n",
    "                filtered_list.append([img_lst[i], 't'])\n",
    "            else : \n",
    "                filtered_list.append([img_lst[i], \"f\"])\n",
    "        return filtered_list\n",
    "        \n",
    "    elif keyword in mountain :\n",
    "        for i in range(len(predict_list)):\n",
    "            if predict_list[i][0] == 1:\n",
    "                filtered_list.append([img_lst[i], 't'])\n",
    "            else : \n",
    "                filtered_list.append([img_lst[i], \"f\"])\n",
    "        return filtered_list\n",
    "        \n",
    "    elif keyword in ocean :\n",
    "        for i in range(len(predict_list)):\n",
    "            if predict_list[i][1] == 1:\n",
    "                filtered_list.append([img_lst[i], 't'])\n",
    "            else : \n",
    "                filtered_list.append([img_lst[i], \"f\"])\n",
    "        return filtered_list\n",
    "        "
   ]
  },
  {
   "cell_type": "markdown",
   "metadata": {},
   "source": [
    "### 필터링 되는 코드"
   ]
  },
  {
   "cell_type": "code",
   "execution_count": 11,
   "metadata": {},
   "outputs": [
    {
     "name": "stdout",
     "output_type": "stream",
     "text": [
      " * Serving Flask app \"__main__\" (lazy loading)\n",
      " * Environment: production\n",
      "   WARNING: This is a development server. Do not use it in a production deployment.\n",
      "   Use a production WSGI server instead.\n",
      " * Debug mode: off\n"
     ]
    },
    {
     "name": "stderr",
     "output_type": "stream",
     "text": [
      " * Running on http://127.0.0.1:5000/ (Press CTRL+C to quit)\n",
      "127.0.0.1 - - [19/Dec/2023 12:12:22] \"\u001b[37mGET / HTTP/1.1\u001b[0m\" 200 -\n",
      "127.0.0.1 - - [19/Dec/2023 12:12:23] \"\u001b[36mGET /static/style.css HTTP/1.1\u001b[0m\" 304 -\n",
      "127.0.0.1 - - [19/Dec/2023 12:12:23] \"\u001b[36mGET /static/img/insta_logo.png HTTP/1.1\u001b[0m\" 304 -\n",
      "127.0.0.1 - - [19/Dec/2023 12:12:23] \"\u001b[36mGET /static/img/cancle_button.png HTTP/1.1\u001b[0m\" 304 -\n",
      "127.0.0.1 - - [19/Dec/2023 12:12:23] \"\u001b[36mGET /static/img/home_icon.png HTTP/1.1\u001b[0m\" 304 -\n",
      "127.0.0.1 - - [19/Dec/2023 12:12:23] \"\u001b[36mGET /static/img/paper_plane.png HTTP/1.1\u001b[0m\" 304 -\n",
      "127.0.0.1 - - [19/Dec/2023 12:12:23] \"\u001b[36mGET /static/img/plus_icon.png HTTP/1.1\u001b[0m\" 304 -\n",
      "127.0.0.1 - - [19/Dec/2023 12:12:23] \"\u001b[36mGET /static/nav.js HTTP/1.1\u001b[0m\" 304 -\n",
      "127.0.0.1 - - [19/Dec/2023 12:12:23] \"\u001b[36mGET /static/index_script.js HTTP/1.1\u001b[0m\" 304 -\n",
      "127.0.0.1 - - [19/Dec/2023 12:12:23] \"\u001b[36mGET /static/img/compass_icon.png HTTP/1.1\u001b[0m\" 304 -\n",
      "127.0.0.1 - - [19/Dec/2023 12:12:23] \"\u001b[36mGET /static/img/heart.png HTTP/1.1\u001b[0m\" 304 -\n",
      "127.0.0.1 - - [19/Dec/2023 12:12:23] \"\u001b[36mGET /static/img/profile_img.jpg HTTP/1.1\u001b[0m\" 304 -\n",
      "127.0.0.1 - - [19/Dec/2023 12:12:23] \"\u001b[36mGET /static/img/back_button.png HTTP/1.1\u001b[0m\" 304 -\n",
      "127.0.0.1 - - [19/Dec/2023 12:12:23] \"\u001b[36mGET /static/img/story_border.png HTTP/1.1\u001b[0m\" 304 -\n",
      "127.0.0.1 - - [19/Dec/2023 12:12:23] \"\u001b[36mGET /static/img/story_image1.png HTTP/1.1\u001b[0m\" 304 -\n",
      "127.0.0.1 - - [19/Dec/2023 12:12:23] \"\u001b[36mGET /static/img/story_image2.png HTTP/1.1\u001b[0m\" 304 -\n",
      "127.0.0.1 - - [19/Dec/2023 12:12:23] \"\u001b[36mGET /static/img/story_image3.png HTTP/1.1\u001b[0m\" 304 -\n",
      "127.0.0.1 - - [19/Dec/2023 12:12:23] \"\u001b[36mGET /static/img/story_image6.png HTTP/1.1\u001b[0m\" 304 -\n",
      "127.0.0.1 - - [19/Dec/2023 12:12:23] \"\u001b[36mGET /static/img/story_image4.png HTTP/1.1\u001b[0m\" 304 -\n",
      "127.0.0.1 - - [19/Dec/2023 12:12:23] \"\u001b[36mGET /static/img/story_image5.png HTTP/1.1\u001b[0m\" 304 -\n",
      "127.0.0.1 - - [19/Dec/2023 12:12:23] \"\u001b[36mGET /static/img/story_image7.png HTTP/1.1\u001b[0m\" 304 -\n",
      "127.0.0.1 - - [19/Dec/2023 12:12:23] \"\u001b[36mGET /static/img/emoji_button.png HTTP/1.1\u001b[0m\" 304 -\n",
      "127.0.0.1 - - [19/Dec/2023 12:12:23] \"\u001b[36mGET /static/img/friend_profile3.png HTTP/1.1\u001b[0m\" 304 -\n",
      "127.0.0.1 - - [19/Dec/2023 12:12:23] \"\u001b[36mGET /static/img/friend_profile5.png HTTP/1.1\u001b[0m\" 304 -\n",
      "127.0.0.1 - - [19/Dec/2023 12:12:23] \"\u001b[36mGET /static/img/friend_profile1.png HTTP/1.1\u001b[0m\" 304 -\n",
      "127.0.0.1 - - [19/Dec/2023 12:12:23] \"\u001b[36mGET /static/img/content_img.jpg HTTP/1.1\u001b[0m\" 304 -\n",
      "127.0.0.1 - - [19/Dec/2023 12:12:23] \"\u001b[36mGET /static/img/glass.png HTTP/1.1\u001b[0m\" 304 -\n",
      "127.0.0.1 - - [19/Dec/2023 12:12:23] \"\u001b[36mGET /static/img/blue_dot.png HTTP/1.1\u001b[0m\" 304 -\n",
      "127.0.0.1 - - [19/Dec/2023 12:12:23] \"\u001b[36mGET /static/img/reply.png HTTP/1.1\u001b[0m\" 304 -\n",
      "127.0.0.1 - - [19/Dec/2023 12:12:23] \"\u001b[36mGET /static/img/save_icon.png HTTP/1.1\u001b[0m\" 304 -\n",
      "127.0.0.1 - - [19/Dec/2023 12:12:23] \"\u001b[36mGET /static/img/next_button.png HTTP/1.1\u001b[0m\" 304 -\n",
      "127.0.0.1 - - [19/Dec/2023 12:12:23] \"\u001b[36mGET /static/img/grey_dot.png HTTP/1.1\u001b[0m\" 304 -\n",
      "127.0.0.1 - - [19/Dec/2023 12:12:23] \"\u001b[36mGET /static/img/story_image8.png HTTP/1.1\u001b[0m\" 304 -\n",
      "127.0.0.1 - - [19/Dec/2023 12:12:23] \"\u001b[36mGET /static/img/friend_profile2.png HTTP/1.1\u001b[0m\" 304 -\n",
      "127.0.0.1 - - [19/Dec/2023 12:12:23] \"\u001b[36mGET /static/img/dots.png HTTP/1.1\u001b[0m\" 304 -\n",
      "127.0.0.1 - - [19/Dec/2023 12:12:23] \"\u001b[36mGET /static/img/friend_profile4.png HTTP/1.1\u001b[0m\" 304 -\n",
      "127.0.0.1 - - [19/Dec/2023 12:12:24] \"\u001b[37mPOST /keywords HTTP/1.1\u001b[0m\" 200 -\n",
      "127.0.0.1 - - [19/Dec/2023 12:12:24] \"\u001b[36mGET /static/img/sharp.png HTTP/1.1\u001b[0m\" 304 -\n",
      "127.0.0.1 - - [19/Dec/2023 12:12:26] \"\u001b[37mGET /search?keyword=강아지&status=filtering HTTP/1.1\u001b[0m\" 200 -\n",
      "127.0.0.1 - - [19/Dec/2023 12:12:26] \"\u001b[37mGET /static/style.css HTTP/1.1\u001b[0m\" 200 -\n",
      "127.0.0.1 - - [19/Dec/2023 12:12:26] \"\u001b[37mGET /static/img/insta_logo.png HTTP/1.1\u001b[0m\" 200 -\n",
      "127.0.0.1 - - [19/Dec/2023 12:12:26] \"\u001b[37mGET /static/img/cancle_button.png HTTP/1.1\u001b[0m\" 200 -\n",
      "127.0.0.1 - - [19/Dec/2023 12:12:26] \"\u001b[37mGET /static/img/paper_plane.png HTTP/1.1\u001b[0m\" 200 -\n",
      "127.0.0.1 - - [19/Dec/2023 12:12:26] \"\u001b[37mGET /static/img/plus_icon.png HTTP/1.1\u001b[0m\" 200 -\n",
      "127.0.0.1 - - [19/Dec/2023 12:12:26] \"\u001b[37mGET /static/img/home_icon.png HTTP/1.1\u001b[0m\" 200 -\n",
      "127.0.0.1 - - [19/Dec/2023 12:12:26] \"\u001b[37mGET /static/nav.js HTTP/1.1\u001b[0m\" 200 -\n",
      "127.0.0.1 - - [19/Dec/2023 12:12:26] \"\u001b[36mGET /static/search_script.js HTTP/1.1\u001b[0m\" 304 -\n",
      "127.0.0.1 - - [19/Dec/2023 12:12:26] \"\u001b[37mGET /static/img/compass_icon.png HTTP/1.1\u001b[0m\" 200 -\n",
      "127.0.0.1 - - [19/Dec/2023 12:12:26] \"\u001b[37mGET /static/test_img/9024447.jpg HTTP/1.1\u001b[0m\" 200 -\n",
      "127.0.0.1 - - [19/Dec/2023 12:12:26] \"\u001b[37mGET /static/img/heart.png HTTP/1.1\u001b[0m\" 200 -\n",
      "127.0.0.1 - - [19/Dec/2023 12:12:26] \"\u001b[37mGET /static/img/profile_img.jpg HTTP/1.1\u001b[0m\" 200 -\n",
      "127.0.0.1 - - [19/Dec/2023 12:12:26] \"\u001b[37mGET /static/img/glass.png HTTP/1.1\u001b[0m\" 200 -\n",
      "127.0.0.1 - - [19/Dec/2023 12:12:26] \"\u001b[36mGET /static/img/loading.png HTTP/1.1\u001b[0m\" 304 -\n",
      "127.0.0.1 - - [19/Dec/2023 12:12:29] \"\u001b[37mGET /static/test_img/9022929.jpg?q=01121226 HTTP/1.1\u001b[0m\" 200 -\n",
      "127.0.0.1 - - [19/Dec/2023 12:12:29] \"\u001b[37mGET /static/test_img/9024447.jpg?q=01121226 HTTP/1.1\u001b[0m\" 200 -\n",
      "127.0.0.1 - - [19/Dec/2023 12:12:29] \"\u001b[37mGET /static/test_img/9013382.jpg?q=01121226 HTTP/1.1\u001b[0m\" 200 -\n",
      "127.0.0.1 - - [19/Dec/2023 12:12:29] \"\u001b[37mGET /static/test_img/9024436.jpg?q=01121226 HTTP/1.1\u001b[0m\" 200 -\n",
      "127.0.0.1 - - [19/Dec/2023 12:12:29] \"\u001b[37mGET /static/test_img/9004772.jpg?q=01121226 HTTP/1.1\u001b[0m\" 200 -\n",
      "127.0.0.1 - - [19/Dec/2023 12:12:29] \"\u001b[37mGET /static/test_img/9023377.jpg?q=01121226 HTTP/1.1\u001b[0m\" 200 -\n",
      "127.0.0.1 - - [19/Dec/2023 12:12:29] \"\u001b[37mGET /static/test_img/9025743.jpg?q=01121226 HTTP/1.1\u001b[0m\" 200 -\n",
      "127.0.0.1 - - [19/Dec/2023 12:12:29] \"\u001b[37mGET /static/test_img/9024729.jpg?q=01121226 HTTP/1.1\u001b[0m\" 200 -\n",
      "127.0.0.1 - - [19/Dec/2023 12:12:29] \"\u001b[37mGET /static/test_img/9024958.jpg?q=01121226 HTTP/1.1\u001b[0m\" 200 -\n",
      "127.0.0.1 - - [19/Dec/2023 12:12:29] \"\u001b[37mGET /static/test_img/9022727.jpg?q=01121226 HTTP/1.1\u001b[0m\" 200 -\n",
      "127.0.0.1 - - [19/Dec/2023 12:12:29] \"\u001b[37mGET /static/test_img/9024314.jpg?q=01121226 HTTP/1.1\u001b[0m\" 200 -\n",
      "127.0.0.1 - - [19/Dec/2023 12:12:29] \"\u001b[37mGET /static/test_img/9024728.jpg?q=01121226 HTTP/1.1\u001b[0m\" 200 -\n",
      "  0%|          | 0/12 [00:00<?, ?it/s]"
     ]
    },
    {
     "name": "stdout",
     "output_type": "stream",
     "text": [
      "1/1 [==============================] - 4s 4s/step\n"
     ]
    },
    {
     "name": "stderr",
     "output_type": "stream",
     "text": [
      "  8%|▊         | 1/12 [00:04<00:46,  4.20s/it]"
     ]
    },
    {
     "name": "stdout",
     "output_type": "stream",
     "text": [
      "1/1 [==============================] - 0s 219ms/step\n"
     ]
    },
    {
     "name": "stderr",
     "output_type": "stream",
     "text": [
      " 17%|█▋        | 2/12 [00:04<00:31,  3.10s/it]"
     ]
    },
    {
     "name": "stdout",
     "output_type": "stream",
     "text": [
      "1/1 [==============================] - 0s 231ms/step\n"
     ]
    },
    {
     "name": "stderr",
     "output_type": "stream",
     "text": [
      " 25%|██▌       | 3/12 [00:05<00:20,  2.32s/it]"
     ]
    },
    {
     "name": "stdout",
     "output_type": "stream",
     "text": [
      "1/1 [==============================] - 0s 233ms/step\n"
     ]
    },
    {
     "name": "stderr",
     "output_type": "stream",
     "text": [
      " 33%|███▎      | 4/12 [00:05<00:14,  1.77s/it]"
     ]
    },
    {
     "name": "stdout",
     "output_type": "stream",
     "text": [
      "1/1 [==============================] - 0s 233ms/step\n"
     ]
    },
    {
     "name": "stderr",
     "output_type": "stream",
     "text": [
      " 42%|████▏     | 5/12 [00:06<00:09,  1.38s/it]"
     ]
    },
    {
     "name": "stdout",
     "output_type": "stream",
     "text": [
      "1/1 [==============================] - 0s 226ms/step\n"
     ]
    },
    {
     "name": "stderr",
     "output_type": "stream",
     "text": [
      " 50%|█████     | 6/12 [00:06<00:06,  1.12s/it]"
     ]
    },
    {
     "name": "stdout",
     "output_type": "stream",
     "text": [
      "1/1 [==============================] - 0s 238ms/step\n"
     ]
    },
    {
     "name": "stderr",
     "output_type": "stream",
     "text": [
      " 58%|█████▊    | 7/12 [00:07<00:04,  1.05it/s]"
     ]
    },
    {
     "name": "stdout",
     "output_type": "stream",
     "text": [
      "1/1 [==============================] - 0s 223ms/step\n"
     ]
    },
    {
     "name": "stderr",
     "output_type": "stream",
     "text": [
      " 67%|██████▋   | 8/12 [00:07<00:03,  1.22it/s]"
     ]
    },
    {
     "name": "stdout",
     "output_type": "stream",
     "text": [
      "1/1 [==============================] - 0s 235ms/step\n"
     ]
    },
    {
     "name": "stderr",
     "output_type": "stream",
     "text": [
      " 75%|███████▌  | 9/12 [00:08<00:02,  1.38it/s]"
     ]
    },
    {
     "name": "stdout",
     "output_type": "stream",
     "text": [
      "1/1 [==============================] - 0s 259ms/step\n"
     ]
    },
    {
     "name": "stderr",
     "output_type": "stream",
     "text": [
      " 83%|████████▎ | 10/12 [00:08<00:01,  1.58it/s]"
     ]
    },
    {
     "name": "stdout",
     "output_type": "stream",
     "text": [
      "1/1 [==============================] - 0s 215ms/step\n"
     ]
    },
    {
     "name": "stderr",
     "output_type": "stream",
     "text": [
      " 92%|█████████▏| 11/12 [00:09<00:00,  1.62it/s]"
     ]
    },
    {
     "name": "stdout",
     "output_type": "stream",
     "text": [
      "1/1 [==============================] - 0s 210ms/step\n"
     ]
    },
    {
     "name": "stderr",
     "output_type": "stream",
     "text": [
      "100%|██████████| 12/12 [00:09<00:00,  1.24it/s]\n"
     ]
    },
    {
     "name": "stdout",
     "output_type": "stream",
     "text": [
      "1/1 [==============================] - 0s 167ms/step\n"
     ]
    },
    {
     "name": "stderr",
     "output_type": "stream",
     "text": [
      "  0%|          | 0/1 [00:00<?, ?it/s]"
     ]
    },
    {
     "name": "stdout",
     "output_type": "stream",
     "text": [
      "1/1 [==============================] - 0s 217ms/step\n"
     ]
    },
    {
     "name": "stderr",
     "output_type": "stream",
     "text": [
      "100%|██████████| 1/1 [00:00<00:00,  2.54it/s]"
     ]
    },
    {
     "name": "stdout",
     "output_type": "stream",
     "text": [
      "1/1 [==============================] - 0s 55ms/step\n"
     ]
    },
    {
     "name": "stderr",
     "output_type": "stream",
     "text": [
      "\n",
      "  0%|          | 0/1 [00:00<?, ?it/s]"
     ]
    },
    {
     "name": "stdout",
     "output_type": "stream",
     "text": [
      "1/1 [==============================] - 0s 223ms/step\n"
     ]
    },
    {
     "name": "stderr",
     "output_type": "stream",
     "text": [
      "100%|██████████| 1/1 [00:00<00:00,  2.00it/s]"
     ]
    },
    {
     "name": "stdout",
     "output_type": "stream",
     "text": [
      "1/1 [==============================] - 0s 63ms/step\n"
     ]
    },
    {
     "name": "stderr",
     "output_type": "stream",
     "text": [
      "\n",
      "  0%|          | 0/1 [00:00<?, ?it/s]127.0.0.1 - - [19/Dec/2023 12:12:43] \"\u001b[37mPOST /image_append HTTP/1.1\u001b[0m\" 200 -\n"
     ]
    },
    {
     "name": "stdout",
     "output_type": "stream",
     "text": [
      "1/1 [==============================] - 0s 220ms/step\n"
     ]
    },
    {
     "name": "stderr",
     "output_type": "stream",
     "text": [
      "100%|██████████| 1/1 [00:00<00:00,  1.78it/s]"
     ]
    },
    {
     "name": "stdout",
     "output_type": "stream",
     "text": [
      "1/1 [==============================] - 0s 33ms/step\n"
     ]
    },
    {
     "name": "stderr",
     "output_type": "stream",
     "text": [
      "\n",
      "127.0.0.1 - - [19/Dec/2023 12:12:44] \"\u001b[37mGET /search?keyword=강아지&status=original HTTP/1.1\u001b[0m\" 200 -\n",
      "127.0.0.1 - - [19/Dec/2023 12:12:44] \"\u001b[37mGET /static/test_img/9023424.jpg HTTP/1.1\u001b[0m\" 200 -\n",
      "127.0.0.1 - - [19/Dec/2023 12:12:44] \"\u001b[37mGET /static/test_img/9013740.jpg HTTP/1.1\u001b[0m\" 200 -\n",
      "127.0.0.1 - - [19/Dec/2023 12:12:44] \"\u001b[37mGET /static/test_img/9024382.jpg HTTP/1.1\u001b[0m\" 200 -\n",
      "127.0.0.1 - - [19/Dec/2023 12:12:44] \"\u001b[37mGET /static/test_img/9025206.jpg HTTP/1.1\u001b[0m\" 200 -\n",
      "127.0.0.1 - - [19/Dec/2023 12:12:44] \"\u001b[37mGET /static/test_img/9021547.jpg HTTP/1.1\u001b[0m\" 200 -\n",
      "127.0.0.1 - - [19/Dec/2023 12:12:44] \"\u001b[37mGET /static/test_img/9025186.jpg HTTP/1.1\u001b[0m\" 200 -\n",
      "127.0.0.1 - - [19/Dec/2023 12:12:44] \"\u001b[36mGET /static/style.css HTTP/1.1\u001b[0m\" 304 -\n",
      "127.0.0.1 - - [19/Dec/2023 12:12:44] \"\u001b[36mGET /static/img/insta_logo.png HTTP/1.1\u001b[0m\" 304 -\n",
      "127.0.0.1 - - [19/Dec/2023 12:12:44] \"\u001b[36mGET /static/img/cancle_button.png HTTP/1.1\u001b[0m\" 304 -\n",
      "127.0.0.1 - - [19/Dec/2023 12:12:44] \"\u001b[36mGET /static/img/paper_plane.png HTTP/1.1\u001b[0m\" 304 -\n",
      "127.0.0.1 - - [19/Dec/2023 12:12:44] \"\u001b[36mGET /static/img/home_icon.png HTTP/1.1\u001b[0m\" 304 -\n",
      "127.0.0.1 - - [19/Dec/2023 12:12:44] \"\u001b[36mGET /static/img/plus_icon.png HTTP/1.1\u001b[0m\" 304 -\n",
      "127.0.0.1 - - [19/Dec/2023 12:12:45] \"\u001b[36mGET /static/nav.js HTTP/1.1\u001b[0m\" 304 -\n",
      "127.0.0.1 - - [19/Dec/2023 12:12:45] \"\u001b[37mGET /static/search_script.js HTTP/1.1\u001b[0m\" 200 -\n",
      "127.0.0.1 - - [19/Dec/2023 12:12:45] \"\u001b[37mGET /static/test_img/9013382.jpg HTTP/1.1\u001b[0m\" 200 -\n",
      "127.0.0.1 - - [19/Dec/2023 12:12:45] \"\u001b[36mGET /static/img/heart.png HTTP/1.1\u001b[0m\" 304 -\n",
      "127.0.0.1 - - [19/Dec/2023 12:12:45] \"\u001b[36mGET /static/img/profile_img.jpg HTTP/1.1\u001b[0m\" 304 -\n",
      "127.0.0.1 - - [19/Dec/2023 12:12:45] \"\u001b[36mGET /static/img/compass_icon.png HTTP/1.1\u001b[0m\" 304 -\n",
      "127.0.0.1 - - [19/Dec/2023 12:12:45] \"\u001b[37mGET /static/img/loading.png HTTP/1.1\u001b[0m\" 200 -\n",
      "127.0.0.1 - - [19/Dec/2023 12:12:47] \"\u001b[37mGET /static/test_img/9023377.jpg?q=01121244 HTTP/1.1\u001b[0m\" 200 -\n",
      "127.0.0.1 - - [19/Dec/2023 12:12:47] \"\u001b[37mGET /static/test_img/9022929.jpg?q=01121244 HTTP/1.1\u001b[0m\" 200 -\n",
      "127.0.0.1 - - [19/Dec/2023 12:12:47] \"\u001b[37mGET /static/test_img/9013382.jpg?q=01121244 HTTP/1.1\u001b[0m\" 200 -\n",
      "127.0.0.1 - - [19/Dec/2023 12:12:47] \"\u001b[37mGET /static/test_img/9024436.jpg?q=01121244 HTTP/1.1\u001b[0m\" 200 -\n",
      "127.0.0.1 - - [19/Dec/2023 12:12:47] \"\u001b[37mGET /static/test_img/9025743.jpg?q=01121244 HTTP/1.1\u001b[0m\" 200 -\n",
      "127.0.0.1 - - [19/Dec/2023 12:12:47] \"\u001b[37mGET /static/test_img/9024729.jpg?q=01121244 HTTP/1.1\u001b[0m\" 200 -\n",
      "127.0.0.1 - - [19/Dec/2023 12:12:47] \"\u001b[37mGET /static/test_img/9024958.jpg?q=01121244 HTTP/1.1\u001b[0m\" 200 -\n",
      "127.0.0.1 - - [19/Dec/2023 12:12:47] \"\u001b[37mGET /static/test_img/9024314.jpg?q=01121244 HTTP/1.1\u001b[0m\" 200 -\n",
      "127.0.0.1 - - [19/Dec/2023 12:12:47] \"\u001b[37mGET /static/test_img/9024728.jpg?q=01121244 HTTP/1.1\u001b[0m\" 200 -\n",
      "127.0.0.1 - - [19/Dec/2023 12:12:47] \"\u001b[37mGET /static/test_img/9024704.jpg?q=01121244 HTTP/1.1\u001b[0m\" 200 -\n",
      "127.0.0.1 - - [19/Dec/2023 12:12:47] \"\u001b[37mGET /static/test_img/9013829.jpg?q=01121244 HTTP/1.1\u001b[0m\" 200 -\n",
      "127.0.0.1 - - [19/Dec/2023 12:12:47] \"\u001b[37mGET /static/test_img/9024909.jpg?q=01121244 HTTP/1.1\u001b[0m\" 200 -\n",
      "  0%|          | 0/12 [00:00<?, ?it/s]"
     ]
    },
    {
     "name": "stdout",
     "output_type": "stream",
     "text": [
      "1/1 [==============================] - 0s 243ms/step\n"
     ]
    },
    {
     "name": "stderr",
     "output_type": "stream",
     "text": [
      "  8%|▊         | 1/12 [00:00<00:04,  2.51it/s]"
     ]
    },
    {
     "name": "stdout",
     "output_type": "stream",
     "text": [
      "1/1 [==============================] - 0s 257ms/step\n"
     ]
    },
    {
     "name": "stderr",
     "output_type": "stream",
     "text": []
    },
    {
     "name": "stdout",
     "output_type": "stream",
     "text": [
      "1/1 [==============================] - 0s 327ms/step\n"
     ]
    },
    {
     "name": "stderr",
     "output_type": "stream",
     "text": [
      " 17%|█▋        | 2/12 [00:01<00:04,  2.11it/s]"
     ]
    },
    {
     "name": "stdout",
     "output_type": "stream",
     "text": [
      "1/1 [==============================] - 0s 251ms/step\n"
     ]
    },
    {
     "name": "stderr",
     "output_type": "stream",
     "text": [
      " 25%|██▌       | 3/12 [00:01<00:04,  2.12it/s]"
     ]
    },
    {
     "name": "stdout",
     "output_type": "stream",
     "text": [
      "1/1 [==============================] - 0s 291ms/step\n"
     ]
    },
    {
     "name": "stderr",
     "output_type": "stream",
     "text": []
    },
    {
     "name": "stdout",
     "output_type": "stream",
     "text": [
      "1/1 [==============================] - 0s 236ms/step\n"
     ]
    },
    {
     "name": "stderr",
     "output_type": "stream",
     "text": [
      " 33%|███▎      | 4/12 [00:02<00:04,  1.99it/s]"
     ]
    },
    {
     "name": "stdout",
     "output_type": "stream",
     "text": [
      "1/1 [==============================] - 0s 235ms/step\n"
     ]
    },
    {
     "name": "stderr",
     "output_type": "stream",
     "text": []
    },
    {
     "name": "stdout",
     "output_type": "stream",
     "text": [
      "1/1 [==============================] - 0s 247ms/step\n"
     ]
    },
    {
     "name": "stderr",
     "output_type": "stream",
     "text": [
      " 42%|████▏     | 5/12 [00:02<00:03,  1.89it/s]"
     ]
    },
    {
     "name": "stdout",
     "output_type": "stream",
     "text": [
      "1/1 [==============================] - 0s 281ms/step\n"
     ]
    },
    {
     "name": "stderr",
     "output_type": "stream",
     "text": []
    },
    {
     "name": "stdout",
     "output_type": "stream",
     "text": [
      "1/1 [==============================] - 0s 386ms/step\n"
     ]
    },
    {
     "name": "stderr",
     "output_type": "stream",
     "text": [
      " 50%|█████     | 6/12 [00:03<00:03,  1.81it/s]"
     ]
    },
    {
     "name": "stdout",
     "output_type": "stream",
     "text": [
      "1/1 [==============================] - 0s 273ms/step\n"
     ]
    },
    {
     "name": "stderr",
     "output_type": "stream",
     "text": []
    },
    {
     "name": "stdout",
     "output_type": "stream",
     "text": [
      "1/1 [==============================] - 0s 276ms/step\n"
     ]
    },
    {
     "name": "stderr",
     "output_type": "stream",
     "text": [
      " 58%|█████▊    | 7/12 [00:03<00:02,  1.71it/s]"
     ]
    },
    {
     "name": "stdout",
     "output_type": "stream",
     "text": [
      "1/1 [==============================] - 0s 148ms/step\n"
     ]
    },
    {
     "name": "stderr",
     "output_type": "stream",
     "text": []
    },
    {
     "name": "stdout",
     "output_type": "stream",
     "text": [
      "1/1 [==============================] - 0s 190ms/step\n"
     ]
    },
    {
     "name": "stderr",
     "output_type": "stream",
     "text": [
      " 67%|██████▋   | 8/12 [00:04<00:02,  1.74it/s]"
     ]
    },
    {
     "name": "stdout",
     "output_type": "stream",
     "text": [
      "1/1 [==============================] - 0s 267ms/step\n",
      "1/1 [==============================] - 0s 279ms/step\n"
     ]
    },
    {
     "name": "stderr",
     "output_type": "stream",
     "text": [
      " 75%|███████▌  | 9/12 [00:04<00:01,  1.84it/s]"
     ]
    },
    {
     "name": "stdout",
     "output_type": "stream",
     "text": [
      "1/1 [==============================] - 0s 168ms/step\n"
     ]
    },
    {
     "name": "stderr",
     "output_type": "stream",
     "text": [
      " 83%|████████▎ | 10/12 [00:05<00:00,  2.15it/s]"
     ]
    },
    {
     "name": "stdout",
     "output_type": "stream",
     "text": [
      "1/1 [==============================] - 0s 242ms/step\n"
     ]
    },
    {
     "name": "stderr",
     "output_type": "stream",
     "text": []
    },
    {
     "name": "stdout",
     "output_type": "stream",
     "text": [
      "1/1 [==============================] - 0s 330ms/step\n"
     ]
    },
    {
     "name": "stderr",
     "output_type": "stream",
     "text": [
      " 92%|█████████▏| 11/12 [00:05<00:00,  1.90it/s]"
     ]
    },
    {
     "name": "stdout",
     "output_type": "stream",
     "text": [
      "1/1 [==============================] - 0s 342ms/step\n"
     ]
    },
    {
     "name": "stderr",
     "output_type": "stream",
     "text": []
    },
    {
     "name": "stdout",
     "output_type": "stream",
     "text": [
      "1/1 [==============================] - 0s 248ms/step\n"
     ]
    },
    {
     "name": "stderr",
     "output_type": "stream",
     "text": [
      "100%|██████████| 12/12 [00:06<00:00,  1.89it/s]\n"
     ]
    },
    {
     "name": "stdout",
     "output_type": "stream",
     "text": [
      "1/1 [==============================] - 0s 304ms/step\n"
     ]
    },
    {
     "name": "stderr",
     "output_type": "stream",
     "text": []
    },
    {
     "name": "stdout",
     "output_type": "stream",
     "text": [
      "1/1 [==============================] - 0s 55ms/step\n"
     ]
    },
    {
     "name": "stderr",
     "output_type": "stream",
     "text": [
      "127.0.0.1 - - [19/Dec/2023 12:13:03] \"\u001b[37mPOST /image_append HTTP/1.1\u001b[0m\" 200 -\n"
     ]
    },
    {
     "name": "stdout",
     "output_type": "stream",
     "text": [
      "1/1 [==============================] - 0s 116ms/step\n"
     ]
    },
    {
     "name": "stderr",
     "output_type": "stream",
     "text": []
    },
    {
     "name": "stdout",
     "output_type": "stream",
     "text": [
      "1/1 [==============================] - 0s 140ms/step\n"
     ]
    },
    {
     "name": "stderr",
     "output_type": "stream",
     "text": [
      "100%|██████████| 12/12 [00:06<00:00,  1.75it/s]"
     ]
    },
    {
     "name": "stdout",
     "output_type": "stream",
     "text": [
      "1/1 [==============================] - 0s 58ms/step\n"
     ]
    },
    {
     "name": "stderr",
     "output_type": "stream",
     "text": [
      "\n",
      "  0%|          | 0/1 [00:00<?, ?it/s]"
     ]
    },
    {
     "name": "stdout",
     "output_type": "stream",
     "text": [
      "1/1 [==============================] - 0s 247ms/step\n"
     ]
    },
    {
     "name": "stderr",
     "output_type": "stream",
     "text": [
      "100%|██████████| 1/1 [00:00<00:00,  2.21it/s]"
     ]
    },
    {
     "name": "stdout",
     "output_type": "stream",
     "text": [
      "1/1 [==============================] - 0s 55ms/step\n"
     ]
    },
    {
     "name": "stderr",
     "output_type": "stream",
     "text": [
      "\n",
      "  0%|          | 0/1 [00:00<?, ?it/s]127.0.0.1 - - [19/Dec/2023 12:13:05] \"\u001b[37mGET /static/test_img/9024904.jpg HTTP/1.1\u001b[0m\" 200 -\n",
      "127.0.0.1 - - [19/Dec/2023 12:13:05] \"\u001b[37mGET /static/test_img/9023427.jpg HTTP/1.1\u001b[0m\" 200 -\n",
      "127.0.0.1 - - [19/Dec/2023 12:13:05] \"\u001b[37mGET /static/test_img/9022575.jpg HTTP/1.1\u001b[0m\" 200 -\n",
      "127.0.0.1 - - [19/Dec/2023 12:13:05] \"\u001b[37mGET /static/test_img/9024964.jpg HTTP/1.1\u001b[0m\" 200 -\n",
      "127.0.0.1 - - [19/Dec/2023 12:13:05] \"\u001b[37mGET /static/test_img/9023020.jpg HTTP/1.1\u001b[0m\" 200 -\n",
      "127.0.0.1 - - [19/Dec/2023 12:13:05] \"\u001b[37mGET /static/test_img/9025226.jpg HTTP/1.1\u001b[0m\" 200 -\n",
      "127.0.0.1 - - [19/Dec/2023 12:13:05] \"\u001b[37mGET /static/test_img/9023396.jpg HTTP/1.1\u001b[0m\" 200 -\n",
      "127.0.0.1 - - [19/Dec/2023 12:13:05] \"\u001b[37mGET /static/test_img/9025895.jpg HTTP/1.1\u001b[0m\" 200 -\n",
      "127.0.0.1 - - [19/Dec/2023 12:13:05] \"\u001b[37mGET /static/test_img/9023392.jpg HTTP/1.1\u001b[0m\" 200 -\n",
      "127.0.0.1 - - [19/Dec/2023 12:13:05] \"\u001b[37mGET /static/test_img/9025628.jpg HTTP/1.1\u001b[0m\" 200 -\n",
      "127.0.0.1 - - [19/Dec/2023 12:13:05] \"\u001b[37mGET /static/test_img/9023484.jpg HTTP/1.1\u001b[0m\" 200 -\n",
      "127.0.0.1 - - [19/Dec/2023 12:13:05] \"\u001b[37mGET /static/test_img/9023886.jpg HTTP/1.1\u001b[0m\" 200 -\n"
     ]
    },
    {
     "name": "stdout",
     "output_type": "stream",
     "text": [
      "1/1 [==============================] - 0s 184ms/step\n"
     ]
    },
    {
     "name": "stderr",
     "output_type": "stream",
     "text": [
      "100%|██████████| 1/1 [00:00<00:00,  2.02it/s]\n"
     ]
    },
    {
     "name": "stdout",
     "output_type": "stream",
     "text": [
      "1/1 [==============================] - 0s 34ms/step\n"
     ]
    },
    {
     "name": "stderr",
     "output_type": "stream",
     "text": [
      "  0%|          | 0/1 [00:00<?, ?it/s]"
     ]
    },
    {
     "name": "stdout",
     "output_type": "stream",
     "text": [
      "1/1 [==============================] - 0s 107ms/step\n"
     ]
    },
    {
     "name": "stderr",
     "output_type": "stream",
     "text": [
      "100%|██████████| 1/1 [00:00<00:00,  4.21it/s]"
     ]
    },
    {
     "name": "stdout",
     "output_type": "stream",
     "text": [
      "1/1 [==============================] - 0s 29ms/step\n"
     ]
    },
    {
     "name": "stderr",
     "output_type": "stream",
     "text": [
      "\n",
      "  0%|          | 0/1 [00:00<?, ?it/s]"
     ]
    },
    {
     "name": "stdout",
     "output_type": "stream",
     "text": [
      "1/1 [==============================] - 0s 113ms/step\n"
     ]
    },
    {
     "name": "stderr",
     "output_type": "stream",
     "text": [
      "100%|██████████| 1/1 [00:00<00:00,  4.47it/s]"
     ]
    },
    {
     "name": "stdout",
     "output_type": "stream",
     "text": [
      "1/1 [==============================] - 0s 40ms/step\n"
     ]
    },
    {
     "name": "stderr",
     "output_type": "stream",
     "text": [
      "\n",
      "  0%|          | 0/1 [00:00<?, ?it/s]"
     ]
    },
    {
     "name": "stdout",
     "output_type": "stream",
     "text": [
      "1/1 [==============================] - 0s 114ms/step\n"
     ]
    },
    {
     "name": "stderr",
     "output_type": "stream",
     "text": [
      "100%|██████████| 1/1 [00:00<00:00,  4.36it/s]"
     ]
    },
    {
     "name": "stdout",
     "output_type": "stream",
     "text": [
      "1/1 [==============================] - 0s 31ms/step\n"
     ]
    },
    {
     "name": "stderr",
     "output_type": "stream",
     "text": [
      "\n",
      "  0%|          | 0/1 [00:00<?, ?it/s]"
     ]
    },
    {
     "name": "stdout",
     "output_type": "stream",
     "text": [
      "1/1 [==============================] - 0s 103ms/step\n"
     ]
    },
    {
     "name": "stderr",
     "output_type": "stream",
     "text": [
      "100%|██████████| 1/1 [00:00<00:00,  4.13it/s]"
     ]
    },
    {
     "name": "stdout",
     "output_type": "stream",
     "text": [
      "1/1 [==============================] - 0s 28ms/step\n"
     ]
    },
    {
     "name": "stderr",
     "output_type": "stream",
     "text": [
      "\n",
      "  0%|          | 0/1 [00:00<?, ?it/s]"
     ]
    },
    {
     "name": "stdout",
     "output_type": "stream",
     "text": [
      "1/1 [==============================] - 0s 117ms/step\n"
     ]
    },
    {
     "name": "stderr",
     "output_type": "stream",
     "text": [
      "100%|██████████| 1/1 [00:00<00:00,  4.58it/s]"
     ]
    },
    {
     "name": "stdout",
     "output_type": "stream",
     "text": [
      "1/1 [==============================] - 0s 27ms/step\n"
     ]
    },
    {
     "name": "stderr",
     "output_type": "stream",
     "text": [
      "\n",
      "127.0.0.1 - - [19/Dec/2023 12:13:07] \"\u001b[37mPOST /image_append HTTP/1.1\u001b[0m\" 200 -\n",
      "127.0.0.1 - - [19/Dec/2023 12:13:09] \"\u001b[37mGET /static/test_img/9023025.jpg HTTP/1.1\u001b[0m\" 200 -\n",
      "127.0.0.1 - - [19/Dec/2023 12:13:09] \"\u001b[37mGET /static/test_img/9022684.jpg HTTP/1.1\u001b[0m\" 200 -\n",
      "127.0.0.1 - - [19/Dec/2023 12:13:09] \"\u001b[37mGET /static/test_img/9024260.jpg HTTP/1.1\u001b[0m\" 200 -\n",
      "127.0.0.1 - - [19/Dec/2023 12:13:09] \"\u001b[37mGET /static/test_img/9025323.jpg HTTP/1.1\u001b[0m\" 200 -\n",
      "127.0.0.1 - - [19/Dec/2023 12:13:09] \"\u001b[37mGET /static/test_img/9023441.jpg HTTP/1.1\u001b[0m\" 200 -\n",
      "127.0.0.1 - - [19/Dec/2023 12:13:09] \"\u001b[37mGET /static/test_img/9025147.jpg HTTP/1.1\u001b[0m\" 200 -\n",
      "127.0.0.1 - - [19/Dec/2023 12:13:09] \"\u001b[37mGET /static/test_img/9025716.jpg HTTP/1.1\u001b[0m\" 200 -\n",
      "127.0.0.1 - - [19/Dec/2023 12:13:09] \"\u001b[37mGET /static/test_img/9023215.jpg HTTP/1.1\u001b[0m\" 200 -\n",
      "127.0.0.1 - - [19/Dec/2023 12:13:09] \"\u001b[37mGET /static/test_img/9024813.jpg HTTP/1.1\u001b[0m\" 200 -\n",
      "127.0.0.1 - - [19/Dec/2023 12:13:09] \"\u001b[37mGET /static/test_img/9024355.jpg HTTP/1.1\u001b[0m\" 200 -\n",
      "127.0.0.1 - - [19/Dec/2023 12:13:09] \"\u001b[37mGET /static/test_img/9025050.jpg HTTP/1.1\u001b[0m\" 200 -\n",
      "127.0.0.1 - - [19/Dec/2023 12:13:09] \"\u001b[37mGET /static/test_img/9024041.jpg HTTP/1.1\u001b[0m\" 200 -\n",
      "  0%|          | 0/12 [00:00<?, ?it/s]"
     ]
    },
    {
     "name": "stdout",
     "output_type": "stream",
     "text": [
      "1/1 [==============================] - 0s 105ms/step\n"
     ]
    },
    {
     "name": "stderr",
     "output_type": "stream",
     "text": [
      "  8%|▊         | 1/12 [00:00<00:02,  4.24it/s]"
     ]
    },
    {
     "name": "stdout",
     "output_type": "stream",
     "text": [
      "1/1 [==============================] - 0s 106ms/step\n"
     ]
    },
    {
     "name": "stderr",
     "output_type": "stream",
     "text": [
      " 17%|█▋        | 2/12 [00:00<00:02,  4.54it/s]"
     ]
    },
    {
     "name": "stdout",
     "output_type": "stream",
     "text": [
      "1/1 [==============================] - 0s 143ms/step\n"
     ]
    },
    {
     "name": "stderr",
     "output_type": "stream",
     "text": [
      " 25%|██▌       | 3/12 [00:00<00:01,  4.54it/s]"
     ]
    },
    {
     "name": "stdout",
     "output_type": "stream",
     "text": [
      "1/1 [==============================] - 0s 128ms/step\n"
     ]
    },
    {
     "name": "stderr",
     "output_type": "stream",
     "text": [
      " 33%|███▎      | 4/12 [00:00<00:01,  4.54it/s]"
     ]
    },
    {
     "name": "stdout",
     "output_type": "stream",
     "text": [
      "1/1 [==============================] - 0s 119ms/step\n"
     ]
    },
    {
     "name": "stderr",
     "output_type": "stream",
     "text": [
      " 42%|████▏     | 5/12 [00:01<00:01,  4.31it/s]"
     ]
    },
    {
     "name": "stdout",
     "output_type": "stream",
     "text": [
      "1/1 [==============================] - 0s 109ms/step\n"
     ]
    },
    {
     "name": "stderr",
     "output_type": "stream",
     "text": [
      " 50%|█████     | 6/12 [00:01<00:01,  4.59it/s]"
     ]
    },
    {
     "name": "stdout",
     "output_type": "stream",
     "text": [
      "1/1 [==============================] - 0s 109ms/step\n"
     ]
    },
    {
     "name": "stderr",
     "output_type": "stream",
     "text": [
      " 58%|█████▊    | 7/12 [00:01<00:01,  4.83it/s]"
     ]
    },
    {
     "name": "stdout",
     "output_type": "stream",
     "text": [
      "1/1 [==============================] - 0s 117ms/step\n"
     ]
    },
    {
     "name": "stderr",
     "output_type": "stream",
     "text": [
      " 67%|██████▋   | 8/12 [00:01<00:00,  4.57it/s]"
     ]
    },
    {
     "name": "stdout",
     "output_type": "stream",
     "text": [
      "1/1 [==============================] - 0s 116ms/step\n"
     ]
    },
    {
     "name": "stderr",
     "output_type": "stream",
     "text": [
      " 75%|███████▌  | 9/12 [00:01<00:00,  4.65it/s]"
     ]
    },
    {
     "name": "stdout",
     "output_type": "stream",
     "text": [
      "1/1 [==============================] - 0s 126ms/step\n"
     ]
    },
    {
     "name": "stderr",
     "output_type": "stream",
     "text": [
      " 83%|████████▎ | 10/12 [00:02<00:00,  4.52it/s]"
     ]
    },
    {
     "name": "stdout",
     "output_type": "stream",
     "text": [
      "1/1 [==============================] - 0s 119ms/step\n"
     ]
    },
    {
     "name": "stderr",
     "output_type": "stream",
     "text": [
      " 92%|█████████▏| 11/12 [00:02<00:00,  4.76it/s]"
     ]
    },
    {
     "name": "stdout",
     "output_type": "stream",
     "text": [
      "1/1 [==============================] - 0s 113ms/step\n"
     ]
    },
    {
     "name": "stderr",
     "output_type": "stream",
     "text": [
      "100%|██████████| 12/12 [00:02<00:00,  4.65it/s]"
     ]
    },
    {
     "name": "stdout",
     "output_type": "stream",
     "text": [
      "1/1 [==============================] - 0s 24ms/step\n"
     ]
    },
    {
     "name": "stderr",
     "output_type": "stream",
     "text": [
      "\n",
      "  0%|          | 0/1 [00:00<?, ?it/s]"
     ]
    },
    {
     "name": "stdout",
     "output_type": "stream",
     "text": [
      "1/1 [==============================] - 0s 107ms/step\n"
     ]
    },
    {
     "name": "stderr",
     "output_type": "stream",
     "text": [
      "100%|██████████| 1/1 [00:00<00:00,  5.41it/s]"
     ]
    },
    {
     "name": "stdout",
     "output_type": "stream",
     "text": [
      "1/1 [==============================] - 0s 25ms/step\n"
     ]
    },
    {
     "name": "stderr",
     "output_type": "stream",
     "text": [
      "\n",
      "  0%|          | 0/1 [00:00<?, ?it/s]"
     ]
    },
    {
     "name": "stdout",
     "output_type": "stream",
     "text": [
      "1/1 [==============================] - 0s 111ms/step\n"
     ]
    },
    {
     "name": "stderr",
     "output_type": "stream",
     "text": [
      "100%|██████████| 1/1 [00:00<00:00,  4.51it/s]"
     ]
    },
    {
     "name": "stdout",
     "output_type": "stream",
     "text": [
      "1/1 [==============================] - 0s 32ms/step\n"
     ]
    },
    {
     "name": "stderr",
     "output_type": "stream",
     "text": [
      "\n",
      "  0%|          | 0/1 [00:00<?, ?it/s]"
     ]
    },
    {
     "name": "stdout",
     "output_type": "stream",
     "text": [
      "1/1 [==============================] - 0s 122ms/step\n"
     ]
    },
    {
     "name": "stderr",
     "output_type": "stream",
     "text": []
    },
    {
     "name": "stdout",
     "output_type": "stream",
     "text": [
      "1/1 [==============================] - 0s 126ms/step\n"
     ]
    },
    {
     "name": "stderr",
     "output_type": "stream",
     "text": [
      "100%|██████████| 1/1 [00:00<00:00,  3.05it/s]"
     ]
    },
    {
     "name": "stdout",
     "output_type": "stream",
     "text": [
      "1/1 [==============================] - 0s 116ms/step\n",
      "1/1 [==============================] - 0s 88ms/step\n"
     ]
    },
    {
     "name": "stderr",
     "output_type": "stream",
     "text": [
      "\n",
      "  0%|          | 0/1 [00:00<?, ?it/s]"
     ]
    },
    {
     "name": "stdout",
     "output_type": "stream",
     "text": [
      "1/1 [==============================] - 0s 197ms/step\n",
      "1/1 [==============================] - 0s 194ms/step\n"
     ]
    },
    {
     "name": "stderr",
     "output_type": "stream",
     "text": [
      "100%|██████████| 1/1 [00:00<00:00,  2.87it/s]"
     ]
    },
    {
     "name": "stdout",
     "output_type": "stream",
     "text": [
      "1/1 [==============================] - 0s 56ms/step\n"
     ]
    },
    {
     "name": "stderr",
     "output_type": "stream",
     "text": [
      "\n",
      "  0%|          | 0/1 [00:00<?, ?it/s]"
     ]
    },
    {
     "name": "stdout",
     "output_type": "stream",
     "text": [
      "1/1 [==============================] - 0s 181ms/step\n"
     ]
    },
    {
     "name": "stderr",
     "output_type": "stream",
     "text": []
    },
    {
     "name": "stdout",
     "output_type": "stream",
     "text": [
      "1/1 [==============================] - 0s 155ms/step\n"
     ]
    },
    {
     "name": "stderr",
     "output_type": "stream",
     "text": [
      "100%|██████████| 1/1 [00:00<00:00,  2.09it/s]"
     ]
    },
    {
     "name": "stdout",
     "output_type": "stream",
     "text": [
      "1/1 [==============================] - 0s 165ms/step\n"
     ]
    },
    {
     "name": "stderr",
     "output_type": "stream",
     "text": [
      "\n",
      "\n",
      " 42%|████▏     | 5/12 [00:01<00:02,  2.93it/s]"
     ]
    },
    {
     "name": "stdout",
     "output_type": "stream",
     "text": [
      "1/1 [==============================] - ETA: 0s"
     ]
    },
    {
     "name": "stderr",
     "output_type": "stream",
     "text": [
      "\u001b[A"
     ]
    },
    {
     "name": "stdout",
     "output_type": "stream",
     "text": [
      "1/1 [==============================] - 0s 82ms/step\n"
     ]
    },
    {
     "name": "stderr",
     "output_type": "stream",
     "text": [
      "  0%|          | 0/1 [00:00<?, ?it/s]"
     ]
    },
    {
     "name": "stdout",
     "output_type": "stream",
     "text": [
      "1/1 [==============================] - 0s 189ms/step\n"
     ]
    },
    {
     "name": "stderr",
     "output_type": "stream",
     "text": [
      "100%|██████████| 1/1 [00:00<00:00,  2.44it/s]"
     ]
    },
    {
     "name": "stdout",
     "output_type": "stream",
     "text": [
      "1/1 [==============================] - 0s 221ms/step\n"
     ]
    },
    {
     "name": "stderr",
     "output_type": "stream",
     "text": [
      "\n"
     ]
    },
    {
     "name": "stdout",
     "output_type": "stream",
     "text": [
      "1/1 [==============================] - 0s 44ms/step\n"
     ]
    },
    {
     "name": "stderr",
     "output_type": "stream",
     "text": [
      "  0%|          | 0/1 [00:00<?, ?it/s]"
     ]
    },
    {
     "name": "stdout",
     "output_type": "stream",
     "text": [
      "1/1 [==============================] - 0s 118ms/step\n"
     ]
    },
    {
     "name": "stderr",
     "output_type": "stream",
     "text": []
    },
    {
     "name": "stdout",
     "output_type": "stream",
     "text": [
      "1/1 [==============================] - 0s 145ms/step\n"
     ]
    },
    {
     "name": "stderr",
     "output_type": "stream",
     "text": [
      "100%|██████████| 1/1 [00:00<00:00,  2.72it/s]\n"
     ]
    },
    {
     "name": "stdout",
     "output_type": "stream",
     "text": [
      "1/1 [==============================] - 0s 26ms/step\n"
     ]
    },
    {
     "name": "stderr",
     "output_type": "stream",
     "text": [
      "  0%|          | 0/1 [00:00<?, ?it/s]"
     ]
    },
    {
     "name": "stdout",
     "output_type": "stream",
     "text": [
      "1/1 [==============================] - 0s 133ms/step\n"
     ]
    },
    {
     "name": "stderr",
     "output_type": "stream",
     "text": []
    },
    {
     "name": "stdout",
     "output_type": "stream",
     "text": [
      "1/1 [==============================] - 0s 128ms/step\n"
     ]
    },
    {
     "name": "stderr",
     "output_type": "stream",
     "text": [
      "100%|██████████| 1/1 [00:00<00:00,  2.97it/s]"
     ]
    },
    {
     "name": "stdout",
     "output_type": "stream",
     "text": [
      "1/1 [==============================] - 0s 147ms/step\n"
     ]
    },
    {
     "name": "stderr",
     "output_type": "stream",
     "text": [
      "\n"
     ]
    },
    {
     "name": "stdout",
     "output_type": "stream",
     "text": [
      "1/1 [==============================] - 0s 31ms/step\n"
     ]
    },
    {
     "name": "stderr",
     "output_type": "stream",
     "text": [
      "  0%|          | 0/1 [00:00<?, ?it/s]"
     ]
    },
    {
     "name": "stdout",
     "output_type": "stream",
     "text": [
      "1/1 [==============================] - 0s 130ms/step\n"
     ]
    },
    {
     "name": "stderr",
     "output_type": "stream",
     "text": []
    },
    {
     "name": "stdout",
     "output_type": "stream",
     "text": [
      "1/1 [==============================] - 0s 200ms/step\n"
     ]
    },
    {
     "name": "stderr",
     "output_type": "stream",
     "text": [
      "100%|██████████| 1/1 [00:00<00:00,  2.94it/s]\n"
     ]
    },
    {
     "name": "stdout",
     "output_type": "stream",
     "text": [
      "1/1 [==============================] - 0s 35ms/step\n"
     ]
    },
    {
     "name": "stderr",
     "output_type": "stream",
     "text": [
      "127.0.0.1 - - [19/Dec/2023 12:13:20] \"\u001b[37mPOST /image_append HTTP/1.1\u001b[0m\" 200 -\n"
     ]
    },
    {
     "name": "stdout",
     "output_type": "stream",
     "text": [
      "1/1 [==============================] - 0s 120ms/step\n"
     ]
    },
    {
     "name": "stderr",
     "output_type": "stream",
     "text": []
    },
    {
     "name": "stdout",
     "output_type": "stream",
     "text": [
      "1/1 [==============================] - 0s 110ms/step\n"
     ]
    },
    {
     "name": "stderr",
     "output_type": "stream",
     "text": [
      "100%|██████████| 12/12 [00:04<00:00,  2.89it/s]"
     ]
    },
    {
     "name": "stdout",
     "output_type": "stream",
     "text": [
      "1/1 [==============================] - 0s 37ms/step\n"
     ]
    },
    {
     "name": "stderr",
     "output_type": "stream",
     "text": [
      "\n",
      "127.0.0.1 - - [19/Dec/2023 12:13:21] \"\u001b[37mGET /test_page?keyword=강아지 HTTP/1.1\u001b[0m\" 200 -\n",
      "127.0.0.1 - - [19/Dec/2023 12:13:21] \"\u001b[37mGET /static/test_img/9025964.jpg HTTP/1.1\u001b[0m\" 200 -\n",
      "127.0.0.1 - - [19/Dec/2023 12:13:21] \"\u001b[37mGET /static/test_img/9025879.jpg HTTP/1.1\u001b[0m\" 200 -\n",
      "127.0.0.1 - - [19/Dec/2023 12:13:21] \"\u001b[37mGET /static/test_img/9024033.jpg HTTP/1.1\u001b[0m\" 200 -\n",
      "127.0.0.1 - - [19/Dec/2023 12:13:21] \"\u001b[36mGET /static/style.css HTTP/1.1\u001b[0m\" 304 -\n",
      "127.0.0.1 - - [19/Dec/2023 12:13:21] \"\u001b[36mGET /static/img/insta_logo.png HTTP/1.1\u001b[0m\" 304 -\n",
      "127.0.0.1 - - [19/Dec/2023 12:13:21] \"\u001b[36mGET /static/img/cancle_button.png HTTP/1.1\u001b[0m\" 304 -\n",
      "127.0.0.1 - - [19/Dec/2023 12:13:21] \"\u001b[36mGET /static/img/home_icon.png HTTP/1.1\u001b[0m\" 304 -\n",
      "127.0.0.1 - - [19/Dec/2023 12:13:21] \"\u001b[36mGET /static/nav.js HTTP/1.1\u001b[0m\" 304 -\n",
      "127.0.0.1 - - [19/Dec/2023 12:13:21] \"\u001b[36mGET /static/img/paper_plane.png HTTP/1.1\u001b[0m\" 304 -\n",
      "127.0.0.1 - - [19/Dec/2023 12:13:21] \"\u001b[36mGET /static/img/plus_icon.png HTTP/1.1\u001b[0m\" 304 -\n",
      "127.0.0.1 - - [19/Dec/2023 12:13:21] \"\u001b[36mGET /static/img/compass_icon.png HTTP/1.1\u001b[0m\" 304 -\n",
      "127.0.0.1 - - [19/Dec/2023 12:13:21] \"\u001b[36mGET /static/img/heart.png HTTP/1.1\u001b[0m\" 304 -\n",
      "127.0.0.1 - - [19/Dec/2023 12:13:21] \"\u001b[36mGET /static/test_page.js HTTP/1.1\u001b[0m\" 304 -\n",
      "127.0.0.1 - - [19/Dec/2023 12:13:21] \"\u001b[36mGET /static/img/profile_img.jpg HTTP/1.1\u001b[0m\" 304 -\n",
      "127.0.0.1 - - [19/Dec/2023 12:13:21] \"\u001b[36mGET /static/test_img/9024447.jpg HTTP/1.1\u001b[0m\" 304 -\n",
      "127.0.0.1 - - [19/Dec/2023 12:13:21] \"\u001b[36mGET /static/img/loading.png HTTP/1.1\u001b[0m\" 304 -\n",
      "127.0.0.1 - - [19/Dec/2023 12:13:27] \"\u001b[37mGET /static/test_img/9024447.jpg?q=01121321 HTTP/1.1\u001b[0m\" 200 -\n",
      "127.0.0.1 - - [19/Dec/2023 12:13:27] \"\u001b[37mGET /static/test_img/9013382.jpg?q=01121321 HTTP/1.1\u001b[0m\" 200 -\n",
      "127.0.0.1 - - [19/Dec/2023 12:13:27] \"\u001b[37mGET /static/test_img/9022929.jpg?q=01121321 HTTP/1.1\u001b[0m\" 200 -\n",
      "127.0.0.1 - - [19/Dec/2023 12:13:27] \"\u001b[37mGET /static/test_img/9024436.jpg?q=01121321 HTTP/1.1\u001b[0m\" 200 -\n",
      "127.0.0.1 - - [19/Dec/2023 12:13:27] \"\u001b[37mGET /static/test_img/9004772.jpg?q=01121321 HTTP/1.1\u001b[0m\" 200 -\n",
      "127.0.0.1 - - [19/Dec/2023 12:13:27] \"\u001b[37mGET /static/test_img/9023377.jpg?q=01121321 HTTP/1.1\u001b[0m\" 200 -\n",
      "127.0.0.1 - - [19/Dec/2023 12:13:27] \"\u001b[36mGET /static/img/x-button.png HTTP/1.1\u001b[0m\" 304 -\n",
      "127.0.0.1 - - [19/Dec/2023 12:13:27] \"\u001b[37mGET /static/test_img/9025743.jpg?q=01121321 HTTP/1.1\u001b[0m\" 200 -\n",
      "127.0.0.1 - - [19/Dec/2023 12:13:28] \"\u001b[37mGET /static/test_img/9024729.jpg?q=01121321 HTTP/1.1\u001b[0m\" 200 -\n",
      "127.0.0.1 - - [19/Dec/2023 12:13:28] \"\u001b[37mGET /static/test_img/9024958.jpg?q=01121321 HTTP/1.1\u001b[0m\" 200 -\n",
      "127.0.0.1 - - [19/Dec/2023 12:13:28] \"\u001b[37mGET /static/test_img/9022727.jpg?q=01121321 HTTP/1.1\u001b[0m\" 200 -\n",
      "127.0.0.1 - - [19/Dec/2023 12:13:28] \"\u001b[37mGET /static/test_img/9024314.jpg?q=01121321 HTTP/1.1\u001b[0m\" 200 -\n",
      "127.0.0.1 - - [19/Dec/2023 12:13:28] \"\u001b[37mGET /static/test_img/9024728.jpg?q=01121321 HTTP/1.1\u001b[0m\" 200 -\n",
      "  0%|          | 0/12 [00:00<?, ?it/s]"
     ]
    },
    {
     "name": "stdout",
     "output_type": "stream",
     "text": [
      "1/1 [==============================] - 0s 115ms/step\n"
     ]
    },
    {
     "name": "stderr",
     "output_type": "stream",
     "text": [
      "  8%|▊         | 1/12 [00:00<00:02,  4.09it/s]"
     ]
    },
    {
     "name": "stdout",
     "output_type": "stream",
     "text": [
      "1/1 [==============================] - 0s 112ms/step\n"
     ]
    },
    {
     "name": "stderr",
     "output_type": "stream",
     "text": [
      " 17%|█▋        | 2/12 [00:00<00:02,  4.19it/s]"
     ]
    },
    {
     "name": "stdout",
     "output_type": "stream",
     "text": [
      "1/1 [==============================] - 0s 113ms/step\n"
     ]
    },
    {
     "name": "stderr",
     "output_type": "stream",
     "text": [
      " 25%|██▌       | 3/12 [00:00<00:02,  4.27it/s]"
     ]
    },
    {
     "name": "stdout",
     "output_type": "stream",
     "text": [
      "1/1 [==============================] - 0s 112ms/step\n"
     ]
    },
    {
     "name": "stderr",
     "output_type": "stream",
     "text": [
      " 33%|███▎      | 4/12 [00:00<00:01,  4.20it/s]"
     ]
    },
    {
     "name": "stdout",
     "output_type": "stream",
     "text": [
      "1/1 [==============================] - 0s 113ms/step\n"
     ]
    },
    {
     "name": "stderr",
     "output_type": "stream",
     "text": [
      " 42%|████▏     | 5/12 [00:01<00:01,  4.39it/s]"
     ]
    },
    {
     "name": "stdout",
     "output_type": "stream",
     "text": [
      "1/1 [==============================] - 0s 111ms/step\n"
     ]
    },
    {
     "name": "stderr",
     "output_type": "stream",
     "text": [
      " 50%|█████     | 6/12 [00:01<00:01,  4.61it/s]"
     ]
    },
    {
     "name": "stdout",
     "output_type": "stream",
     "text": [
      "1/1 [==============================] - 0s 104ms/step\n"
     ]
    },
    {
     "name": "stderr",
     "output_type": "stream",
     "text": [
      " 58%|█████▊    | 7/12 [00:01<00:01,  4.36it/s]"
     ]
    },
    {
     "name": "stdout",
     "output_type": "stream",
     "text": [
      "1/1 [==============================] - 0s 113ms/step\n"
     ]
    },
    {
     "name": "stderr",
     "output_type": "stream",
     "text": [
      " 67%|██████▋   | 8/12 [00:01<00:00,  4.57it/s]"
     ]
    },
    {
     "name": "stdout",
     "output_type": "stream",
     "text": [
      "1/1 [==============================] - 0s 113ms/step\n"
     ]
    },
    {
     "name": "stderr",
     "output_type": "stream",
     "text": [
      " 75%|███████▌  | 9/12 [00:02<00:00,  4.59it/s]"
     ]
    },
    {
     "name": "stdout",
     "output_type": "stream",
     "text": [
      "1/1 [==============================] - 0s 124ms/step\n"
     ]
    },
    {
     "name": "stderr",
     "output_type": "stream",
     "text": [
      " 83%|████████▎ | 10/12 [00:02<00:00,  4.61it/s]"
     ]
    },
    {
     "name": "stdout",
     "output_type": "stream",
     "text": [
      "1/1 [==============================] - 0s 117ms/step\n"
     ]
    },
    {
     "name": "stderr",
     "output_type": "stream",
     "text": [
      " 92%|█████████▏| 11/12 [00:02<00:00,  4.64it/s]"
     ]
    },
    {
     "name": "stdout",
     "output_type": "stream",
     "text": [
      "1/1 [==============================] - 0s 112ms/step\n"
     ]
    },
    {
     "name": "stderr",
     "output_type": "stream",
     "text": [
      "100%|██████████| 12/12 [00:02<00:00,  4.54it/s]"
     ]
    },
    {
     "name": "stdout",
     "output_type": "stream",
     "text": [
      "1/1 [==============================] - 0s 26ms/step\n"
     ]
    },
    {
     "name": "stderr",
     "output_type": "stream",
     "text": [
      "\n",
      "127.0.0.1 - - [19/Dec/2023 12:13:32] \"\u001b[37mPOST /test_append HTTP/1.1\u001b[0m\" 200 -\n",
      "127.0.0.1 - - [19/Dec/2023 12:13:33] \"\u001b[36mGET /static/test_img/9024904.jpg HTTP/1.1\u001b[0m\" 304 -\n",
      "127.0.0.1 - - [19/Dec/2023 12:13:33] \"\u001b[36mGET /static/test_img/9024964.jpg HTTP/1.1\u001b[0m\" 304 -\n",
      "127.0.0.1 - - [19/Dec/2023 12:13:33] \"\u001b[36mGET /static/test_img/9022575.jpg HTTP/1.1\u001b[0m\" 304 -\n",
      "127.0.0.1 - - [19/Dec/2023 12:13:34] \"\u001b[36mGET /static/test_img/9023427.jpg HTTP/1.1\u001b[0m\" 304 -\n",
      "127.0.0.1 - - [19/Dec/2023 12:13:34] \"\u001b[37mGET /static/test_img/9016397.jpg HTTP/1.1\u001b[0m\" 200 -\n",
      "127.0.0.1 - - [19/Dec/2023 12:13:34] \"\u001b[36mGET /static/test_img/9023020.jpg HTTP/1.1\u001b[0m\" 304 -\n",
      "127.0.0.1 - - [19/Dec/2023 12:13:34] \"\u001b[37mGET /static/test_img/9015692.jpg HTTP/1.1\u001b[0m\" 200 -\n",
      "127.0.0.1 - - [19/Dec/2023 12:13:34] \"\u001b[37mGET /static/test_img/9025819.jpg HTTP/1.1\u001b[0m\" 200 -\n",
      "127.0.0.1 - - [19/Dec/2023 12:13:34] \"\u001b[37mGET /static/test_img/9013717.jpg HTTP/1.1\u001b[0m\" 200 -\n",
      "127.0.0.1 - - [19/Dec/2023 12:13:34] \"\u001b[37mGET /static/test_img/9023431.jpg HTTP/1.1\u001b[0m\" 200 -\n",
      "127.0.0.1 - - [19/Dec/2023 12:13:34] \"\u001b[37mGET /static/test_img/9019788.jpg HTTP/1.1\u001b[0m\" 200 -\n",
      "127.0.0.1 - - [19/Dec/2023 12:13:34] \"\u001b[37mGET /static/test_img/9024909.jpg HTTP/1.1\u001b[0m\" 200 -\n",
      "  0%|          | 0/12 [00:00<?, ?it/s]"
     ]
    },
    {
     "name": "stdout",
     "output_type": "stream",
     "text": [
      "1/1 [==============================] - 0s 106ms/step\n"
     ]
    },
    {
     "name": "stderr",
     "output_type": "stream",
     "text": [
      "  8%|▊         | 1/12 [00:00<00:02,  5.41it/s]"
     ]
    },
    {
     "name": "stdout",
     "output_type": "stream",
     "text": [
      "1/1 [==============================] - 0s 108ms/step\n"
     ]
    },
    {
     "name": "stderr",
     "output_type": "stream",
     "text": [
      " 17%|█▋        | 2/12 [00:00<00:01,  5.12it/s]"
     ]
    },
    {
     "name": "stdout",
     "output_type": "stream",
     "text": [
      "1/1 [==============================] - 0s 106ms/step\n"
     ]
    },
    {
     "name": "stderr",
     "output_type": "stream",
     "text": [
      " 25%|██▌       | 3/12 [00:00<00:01,  4.92it/s]"
     ]
    },
    {
     "name": "stdout",
     "output_type": "stream",
     "text": [
      "1/1 [==============================] - 0s 106ms/step\n"
     ]
    },
    {
     "name": "stderr",
     "output_type": "stream",
     "text": [
      " 33%|███▎      | 4/12 [00:00<00:01,  5.02it/s]"
     ]
    },
    {
     "name": "stdout",
     "output_type": "stream",
     "text": [
      "1/1 [==============================] - 0s 112ms/step\n"
     ]
    },
    {
     "name": "stderr",
     "output_type": "stream",
     "text": [
      " 42%|████▏     | 5/12 [00:01<00:01,  5.14it/s]"
     ]
    },
    {
     "name": "stdout",
     "output_type": "stream",
     "text": [
      "1/1 [==============================] - 0s 112ms/step\n"
     ]
    },
    {
     "name": "stderr",
     "output_type": "stream",
     "text": [
      " 50%|█████     | 6/12 [00:01<00:01,  4.93it/s]"
     ]
    },
    {
     "name": "stdout",
     "output_type": "stream",
     "text": [
      "1/1 [==============================] - 0s 114ms/step\n"
     ]
    },
    {
     "name": "stderr",
     "output_type": "stream",
     "text": [
      " 58%|█████▊    | 7/12 [00:01<00:00,  5.05it/s]"
     ]
    },
    {
     "name": "stdout",
     "output_type": "stream",
     "text": [
      "1/1 [==============================] - 0s 132ms/step\n"
     ]
    },
    {
     "name": "stderr",
     "output_type": "stream",
     "text": [
      " 67%|██████▋   | 8/12 [00:01<00:00,  4.78it/s]"
     ]
    },
    {
     "name": "stdout",
     "output_type": "stream",
     "text": [
      "1/1 [==============================] - 0s 152ms/step\n"
     ]
    },
    {
     "name": "stderr",
     "output_type": "stream",
     "text": [
      " 75%|███████▌  | 9/12 [00:01<00:00,  4.20it/s]"
     ]
    },
    {
     "name": "stdout",
     "output_type": "stream",
     "text": [
      "1/1 [==============================] - 0s 121ms/step\n"
     ]
    },
    {
     "name": "stderr",
     "output_type": "stream",
     "text": [
      " 83%|████████▎ | 10/12 [00:02<00:00,  4.33it/s]"
     ]
    },
    {
     "name": "stdout",
     "output_type": "stream",
     "text": [
      "1/1 [==============================] - 0s 107ms/step\n"
     ]
    },
    {
     "name": "stderr",
     "output_type": "stream",
     "text": [
      " 92%|█████████▏| 11/12 [00:02<00:00,  4.39it/s]"
     ]
    },
    {
     "name": "stdout",
     "output_type": "stream",
     "text": [
      "1/1 [==============================] - 0s 112ms/step\n"
     ]
    },
    {
     "name": "stderr",
     "output_type": "stream",
     "text": [
      "100%|██████████| 12/12 [00:02<00:00,  4.65it/s]"
     ]
    },
    {
     "name": "stdout",
     "output_type": "stream",
     "text": [
      "1/1 [==============================] - 0s 65ms/step\n"
     ]
    },
    {
     "name": "stderr",
     "output_type": "stream",
     "text": [
      "\n",
      "127.0.0.1 - - [19/Dec/2023 12:13:47] \"\u001b[37mPOST /test_append HTTP/1.1\u001b[0m\" 200 -\n",
      "127.0.0.1 - - [19/Dec/2023 12:13:47] \"\u001b[36mGET /static/test_img/9025226.jpg HTTP/1.1\u001b[0m\" 304 -\n",
      "127.0.0.1 - - [19/Dec/2023 12:13:47] \"\u001b[36mGET /static/test_img/9023396.jpg HTTP/1.1\u001b[0m\" 304 -\n",
      "127.0.0.1 - - [19/Dec/2023 12:13:47] \"\u001b[36mGET /static/test_img/9025895.jpg HTTP/1.1\u001b[0m\" 304 -\n",
      "127.0.0.1 - - [19/Dec/2023 12:13:47] \"\u001b[36mGET /static/test_img/9023392.jpg HTTP/1.1\u001b[0m\" 304 -\n",
      "127.0.0.1 - - [19/Dec/2023 12:13:47] \"\u001b[36mGET /static/test_img/9025628.jpg HTTP/1.1\u001b[0m\" 304 -\n",
      "127.0.0.1 - - [19/Dec/2023 12:13:47] \"\u001b[36mGET /static/test_img/9023484.jpg HTTP/1.1\u001b[0m\" 304 -\n",
      "127.0.0.1 - - [19/Dec/2023 12:13:47] \"\u001b[36mGET /static/test_img/9023886.jpg HTTP/1.1\u001b[0m\" 304 -\n",
      "127.0.0.1 - - [19/Dec/2023 12:13:47] \"\u001b[36mGET /static/test_img/9023025.jpg HTTP/1.1\u001b[0m\" 304 -\n",
      "127.0.0.1 - - [19/Dec/2023 12:13:47] \"\u001b[36mGET /static/test_img/9022684.jpg HTTP/1.1\u001b[0m\" 304 -\n",
      "127.0.0.1 - - [19/Dec/2023 12:13:47] \"\u001b[36mGET /static/test_img/9024260.jpg HTTP/1.1\u001b[0m\" 304 -\n",
      "127.0.0.1 - - [19/Dec/2023 12:13:47] \"\u001b[37mGET /static/test_img/9016326.jpg HTTP/1.1\u001b[0m\" 200 -\n",
      "127.0.0.1 - - [19/Dec/2023 12:13:47] \"\u001b[37mGET /static/test_img/9001899.jpg HTTP/1.1\u001b[0m\" 200 -\n"
     ]
    }
   ],
   "source": [
    "app = Flask(__name__)\n",
    "\n",
    "filename = \"\"\n",
    "img_lst = []\n",
    "num = 12\n",
    "\n",
    "# cache 삭제하는 코드, 이미지 로드 안되는 현상 때문\n",
    "@app.after_request\n",
    "def add_header(r):\n",
    "    r.headers[\"Cache-Control\"] = \"no-cache, no-store, must-revalidate\"\n",
    "    r.headers[\"Pragma\"] = \"no-cache\"\n",
    "    r.headers[\"Expires\"] = \"0\"\n",
    "    r.headers['Cache-Control'] = 'public, max-age=0'\n",
    "    return r\n",
    "\n",
    "# 웹 페이지 접속시 메인 화면\n",
    "@app.route('/',  methods=['GET'])\n",
    "def main_loading():\n",
    "    return render_template(\"index.html\")\n",
    "\n",
    "# 키워드 표출(ajax)\n",
    "@app.route(\"/keywords\", methods = [\"POST\"])\n",
    "def keywords_search():\n",
    "    global total_keywords, key_counts\n",
    "    keyword = request.form[\"keyword\"]\n",
    "    cnt = 0\n",
    "    keywords = {}\n",
    "    # 검색어가 있는 키워드 필터링\n",
    "    for word in total_keywords:\n",
    "        if keyword in word:\n",
    "                                  # 키워드  ,    갯수\n",
    "            keywords[str(cnt)] = [word, key_counts[word]]\n",
    "            cnt+=1\n",
    "    return json.dumps(keywords)\n",
    "\n",
    "# 검색 페이지\n",
    "@app.route(\"/search\", methods=[\"GET\"])\n",
    "def search_page():\n",
    "    global img_lst, num\n",
    "    num = 12\n",
    "    keyword = request.args.get(\"keyword\")\n",
    "    status = request.args.get(\"status\")\n",
    "    img_lst = keyword_img_match(keyword)\n",
    "    if status == \"filtering\":\n",
    "        status = \"original\"\n",
    "        return render_template(\"search.html\",img_names = img_lst[:num],\n",
    "                                keyword = keyword, img_len = len(img_lst),\n",
    "                                mtime = datetime.datetime.now().time().strftime(\"%d%H%M%S\"),\n",
    "                                status = status)\n",
    "    elif status == \"original\":\n",
    "        status = \"filtering\"\n",
    "        labeld_lst = image_encode(keyword, img_lst[:num])\n",
    "        filtered_lst = tag_detecting(keyword, labeld_lst, img_lst[:num])\n",
    "        if len(img_lst) > 12:\n",
    "            while len(filtered_lst) != 12:\n",
    "                if num == len(img_lst): break\n",
    "                labeld_lst = image_encode(keyword, [img_lst[num]])\n",
    "                filtered_lst = filtered_lst + tag_detecting(keyword, labeld_lst, [img_lst[num]])\n",
    "                num += 1\n",
    "        return render_template(\"search.html\",img_names = filtered_lst,\n",
    "                                keyword = keyword, img_len = len(img_lst),\n",
    "                                mtime = datetime.datetime.now().time().strftime(\"%d%H%M%S\"),\n",
    "                                status = status)\n",
    "# 테스트 페이지에서 스크롤시 로딩\n",
    "@app.route(\"/test_page\", methods=[\"GET\"])\n",
    "def test_page():\n",
    "    global img_lst, num\n",
    "    num = 12\n",
    "    keyword = request.args.get(\"keyword\")\n",
    "    img_lst = keyword_img_match(keyword)\n",
    "    \n",
    "    labeld_lst = image_encode(keyword, img_lst[:num])\n",
    "    filtered_lst = tag_detecting_not_delete(keyword, labeld_lst, img_lst[:num])\n",
    "    \n",
    "    return render_template(\"test_page.html\",img_names = filtered_lst,\n",
    "                            keyword = keyword, img_len = len(img_lst),\n",
    "                            mtime = datetime.datetime.now().time().strftime(\"%d%H%M%S\"))\n",
    "\n",
    "# 검색페이지에서 스크롤시 새로고침\n",
    "@app.route(\"/test_append\", methods=[\"POST\"])\n",
    "def test_append(): \n",
    "    global num, img_lst\n",
    "    keyword = request.get_json()[\"keyword\"]\n",
    "    if num == len(img_lst):\n",
    "        return json.dumps({})\n",
    "    start_num = num\n",
    "    num += 12\n",
    "    if num > len(img_lst):\n",
    "        num = len(img_lst)\n",
    "    labeld_lst = image_encode(keyword, img_lst[start_num:num])\n",
    "    filtered_lst = tag_detecting_not_delete(keyword, labeld_lst, img_lst[start_num:num])\n",
    "    img_dict = {}\n",
    "    for lst in filtered_lst:\n",
    "        img_dict[lst[0]] = lst[1]\n",
    "\n",
    "    return json.dumps(img_dict)\n",
    "           \n",
    "\n",
    "# 검색페이지에서 스크롤시 새로고침\n",
    "@app.route(\"/image_append\", methods=[\"POST\"])\n",
    "def image_append():\n",
    "    global num, img_lst\n",
    "    keyword = request.get_json()[\"keyword\"]\n",
    "    status = request.get_json()[\"status\"]\n",
    "    # num = int(request.get_json()[\"num\"])\n",
    "    if num == len(img_lst):\n",
    "        return json.dumps({})\n",
    "    start_num = num\n",
    "    num += 12\n",
    "    if num > len(img_lst):\n",
    "        num = len(img_lst)\n",
    "    if status == \"original\":\n",
    "        img_dict = [{names:names} for names in img_lst[start_num:num]]\n",
    "        return json.dumps(img_dict)\n",
    "    elif status == \"filtering\":\n",
    "        labeld_lst = image_encode(keyword, img_lst[start_num:num])\n",
    "        filtered_lst = tag_detecting(keyword, labeld_lst, img_lst[start_num:num])\n",
    "        while len(filtered_lst) != 12:\n",
    "            if num == len(img_lst): break\n",
    "            labeld_lst = image_encode(keyword, [img_lst[num]])            \n",
    "            filtered_lst = filtered_lst + tag_detecting(keyword, labeld_lst, [img_lst[num]])\n",
    "            num += 1\n",
    "        img_dict = [{names:names} for names in filtered_lst]\n",
    "        return json.dumps(img_dict)\n",
    "\n",
    "  \n",
    "if __name__ == \"__main__\":\n",
    "\n",
    "    app.run()"
   ]
  }
 ],
 "metadata": {
  "kernelspec": {
   "display_name": "Python 3.9.7 ('kdig')",
   "language": "python",
   "name": "python3"
  },
  "language_info": {
   "codemirror_mode": {
    "name": "ipython",
    "version": 3
   },
   "file_extension": ".py",
   "mimetype": "text/x-python",
   "name": "python",
   "nbconvert_exporter": "python",
   "pygments_lexer": "ipython3",
   "version": "3.8.5"
  },
  "orig_nbformat": 4,
  "vscode": {
   "interpreter": {
    "hash": "b10743a6073efad4b61ac31858ae9e785f41726804932c77b020dd3e787ed9f2"
   }
  }
 },
 "nbformat": 4,
 "nbformat_minor": 2
}
